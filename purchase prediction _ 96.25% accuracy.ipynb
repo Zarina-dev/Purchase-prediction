{
 "cells": [
  {
   "cell_type": "markdown",
   "id": "5a2aee0c",
   "metadata": {},
   "source": [
    "The Customer_Behavior file represents a data set which contains 400 observation and 5 characteristics of customers such as:     \n",
    "Id, gender, Age, Salary and weather they purchased or not the company's new product."
   ]
  },
  {
   "cell_type": "code",
   "execution_count": 1,
   "id": "1e4c4c29",
   "metadata": {},
   "outputs": [],
   "source": [
    "import numpy as np\n",
    "import pandas as pd\n",
    "import matplotlib.pyplot as plt\n",
    "import seaborn as sns\n",
    "sns.set()\n",
    "\n",
    "\n",
    "from sklearn.preprocessing import StandardScaler, MinMaxScaler\n",
    "from sklearn.model_selection import train_test_split\n",
    "from sklearn.metrics import accuracy_score\n",
    "\n",
    "# classification \n",
    "\n",
    "from sklearn.linear_model import LogisticRegression\n",
    "from sklearn.svm import SVC\n",
    "from sklearn.neural_network import MLPClassifier\n",
    "from sklearn.neighbors import KNeighborsClassifier"
   ]
  },
  {
   "cell_type": "code",
   "execution_count": 3,
   "id": "77b00e80",
   "metadata": {
    "scrolled": false
   },
   "outputs": [
    {
     "data": {
      "text/html": [
       "<div>\n",
       "<style scoped>\n",
       "    .dataframe tbody tr th:only-of-type {\n",
       "        vertical-align: middle;\n",
       "    }\n",
       "\n",
       "    .dataframe tbody tr th {\n",
       "        vertical-align: top;\n",
       "    }\n",
       "\n",
       "    .dataframe thead th {\n",
       "        text-align: right;\n",
       "    }\n",
       "</style>\n",
       "<table border=\"1\" class=\"dataframe\">\n",
       "  <thead>\n",
       "    <tr style=\"text-align: right;\">\n",
       "      <th></th>\n",
       "      <th>User ID</th>\n",
       "      <th>Gender</th>\n",
       "      <th>Age</th>\n",
       "      <th>EstimatedSalary</th>\n",
       "      <th>Purchased</th>\n",
       "    </tr>\n",
       "  </thead>\n",
       "  <tbody>\n",
       "    <tr>\n",
       "      <th>0</th>\n",
       "      <td>15624510</td>\n",
       "      <td>Male</td>\n",
       "      <td>19</td>\n",
       "      <td>19000</td>\n",
       "      <td>0</td>\n",
       "    </tr>\n",
       "    <tr>\n",
       "      <th>1</th>\n",
       "      <td>15810944</td>\n",
       "      <td>Male</td>\n",
       "      <td>35</td>\n",
       "      <td>20000</td>\n",
       "      <td>0</td>\n",
       "    </tr>\n",
       "    <tr>\n",
       "      <th>2</th>\n",
       "      <td>15668575</td>\n",
       "      <td>Female</td>\n",
       "      <td>26</td>\n",
       "      <td>43000</td>\n",
       "      <td>0</td>\n",
       "    </tr>\n",
       "    <tr>\n",
       "      <th>3</th>\n",
       "      <td>15603246</td>\n",
       "      <td>Female</td>\n",
       "      <td>27</td>\n",
       "      <td>57000</td>\n",
       "      <td>0</td>\n",
       "    </tr>\n",
       "    <tr>\n",
       "      <th>4</th>\n",
       "      <td>15804002</td>\n",
       "      <td>Male</td>\n",
       "      <td>19</td>\n",
       "      <td>76000</td>\n",
       "      <td>0</td>\n",
       "    </tr>\n",
       "    <tr>\n",
       "      <th>...</th>\n",
       "      <td>...</td>\n",
       "      <td>...</td>\n",
       "      <td>...</td>\n",
       "      <td>...</td>\n",
       "      <td>...</td>\n",
       "    </tr>\n",
       "    <tr>\n",
       "      <th>395</th>\n",
       "      <td>15691863</td>\n",
       "      <td>Female</td>\n",
       "      <td>46</td>\n",
       "      <td>41000</td>\n",
       "      <td>1</td>\n",
       "    </tr>\n",
       "    <tr>\n",
       "      <th>396</th>\n",
       "      <td>15706071</td>\n",
       "      <td>Male</td>\n",
       "      <td>51</td>\n",
       "      <td>23000</td>\n",
       "      <td>1</td>\n",
       "    </tr>\n",
       "    <tr>\n",
       "      <th>397</th>\n",
       "      <td>15654296</td>\n",
       "      <td>Female</td>\n",
       "      <td>50</td>\n",
       "      <td>20000</td>\n",
       "      <td>1</td>\n",
       "    </tr>\n",
       "    <tr>\n",
       "      <th>398</th>\n",
       "      <td>15755018</td>\n",
       "      <td>Male</td>\n",
       "      <td>36</td>\n",
       "      <td>33000</td>\n",
       "      <td>0</td>\n",
       "    </tr>\n",
       "    <tr>\n",
       "      <th>399</th>\n",
       "      <td>15594041</td>\n",
       "      <td>Female</td>\n",
       "      <td>49</td>\n",
       "      <td>36000</td>\n",
       "      <td>1</td>\n",
       "    </tr>\n",
       "  </tbody>\n",
       "</table>\n",
       "<p>400 rows × 5 columns</p>\n",
       "</div>"
      ],
      "text/plain": [
       "      User ID  Gender  Age  EstimatedSalary  Purchased\n",
       "0    15624510    Male   19            19000          0\n",
       "1    15810944    Male   35            20000          0\n",
       "2    15668575  Female   26            43000          0\n",
       "3    15603246  Female   27            57000          0\n",
       "4    15804002    Male   19            76000          0\n",
       "..        ...     ...  ...              ...        ...\n",
       "395  15691863  Female   46            41000          1\n",
       "396  15706071    Male   51            23000          1\n",
       "397  15654296  Female   50            20000          1\n",
       "398  15755018    Male   36            33000          0\n",
       "399  15594041  Female   49            36000          1\n",
       "\n",
       "[400 rows x 5 columns]"
      ]
     },
     "execution_count": 3,
     "metadata": {},
     "output_type": "execute_result"
    }
   ],
   "source": [
    "data = pd.read_csv('Customer_Behaviour.csv')\n",
    "data"
   ]
  },
  {
   "cell_type": "code",
   "execution_count": 4,
   "id": "a1b5cfc6",
   "metadata": {},
   "outputs": [
    {
     "data": {
      "text/plain": [
       "(400, 5)"
      ]
     },
     "execution_count": 4,
     "metadata": {},
     "output_type": "execute_result"
    }
   ],
   "source": [
    "data.shape"
   ]
  },
  {
   "cell_type": "code",
   "execution_count": 5,
   "id": "f1a71344",
   "metadata": {},
   "outputs": [
    {
     "name": "stdout",
     "output_type": "stream",
     "text": [
      "<class 'pandas.core.frame.DataFrame'>\n",
      "RangeIndex: 400 entries, 0 to 399\n",
      "Data columns (total 5 columns):\n",
      " #   Column           Non-Null Count  Dtype \n",
      "---  ------           --------------  ----- \n",
      " 0   User ID          400 non-null    int64 \n",
      " 1   Gender           400 non-null    object\n",
      " 2   Age              400 non-null    int64 \n",
      " 3   EstimatedSalary  400 non-null    int64 \n",
      " 4   Purchased        400 non-null    int64 \n",
      "dtypes: int64(4), object(1)\n",
      "memory usage: 15.8+ KB\n"
     ]
    }
   ],
   "source": [
    "data.info()"
   ]
  },
  {
   "cell_type": "code",
   "execution_count": 6,
   "id": "20078aed",
   "metadata": {},
   "outputs": [
    {
     "data": {
      "text/plain": [
       "User ID            0\n",
       "Gender             0\n",
       "Age                0\n",
       "EstimatedSalary    0\n",
       "Purchased          0\n",
       "dtype: int64"
      ]
     },
     "execution_count": 6,
     "metadata": {},
     "output_type": "execute_result"
    }
   ],
   "source": [
    "data.isnull().sum()"
   ]
  },
  {
   "cell_type": "code",
   "execution_count": 7,
   "id": "08d10610",
   "metadata": {},
   "outputs": [
    {
     "data": {
      "text/plain": [
       "Index(['User ID', 'Gender', 'Age', 'EstimatedSalary', 'Purchased'], dtype='object')"
      ]
     },
     "execution_count": 7,
     "metadata": {},
     "output_type": "execute_result"
    }
   ],
   "source": [
    "data.columns"
   ]
  },
  {
   "cell_type": "code",
   "execution_count": 8,
   "id": "1d26abd1",
   "metadata": {},
   "outputs": [
    {
     "data": {
      "text/plain": [
       "Female    204\n",
       "Male      196\n",
       "Name: Gender, dtype: int64"
      ]
     },
     "execution_count": 8,
     "metadata": {},
     "output_type": "execute_result"
    }
   ],
   "source": [
    "data.Gender.value_counts()"
   ]
  },
  {
   "cell_type": "markdown",
   "id": "bc86c2f5",
   "metadata": {},
   "source": [
    "# Visualization"
   ]
  },
  {
   "cell_type": "code",
   "execution_count": 9,
   "id": "017432d4",
   "metadata": {},
   "outputs": [
    {
     "data": {
      "text/plain": [
       "0    257\n",
       "1    143\n",
       "Name: Purchased, dtype: int64"
      ]
     },
     "execution_count": 9,
     "metadata": {},
     "output_type": "execute_result"
    }
   ],
   "source": [
    "# target\n",
    "data.Purchased.value_counts()"
   ]
  },
  {
   "cell_type": "code",
   "execution_count": 10,
   "id": "338fc246",
   "metadata": {},
   "outputs": [],
   "source": [
    "# make boolean version of Purchased feature\n",
    "\n",
    "data['Purchased_bool'] = data['Purchased'].apply(lambda x: True if x == 1 else False)"
   ]
  },
  {
   "cell_type": "code",
   "execution_count": 11,
   "id": "32b1ebb3",
   "metadata": {},
   "outputs": [
    {
     "data": {
      "text/html": [
       "<div>\n",
       "<style scoped>\n",
       "    .dataframe tbody tr th:only-of-type {\n",
       "        vertical-align: middle;\n",
       "    }\n",
       "\n",
       "    .dataframe tbody tr th {\n",
       "        vertical-align: top;\n",
       "    }\n",
       "\n",
       "    .dataframe thead th {\n",
       "        text-align: right;\n",
       "    }\n",
       "</style>\n",
       "<table border=\"1\" class=\"dataframe\">\n",
       "  <thead>\n",
       "    <tr style=\"text-align: right;\">\n",
       "      <th></th>\n",
       "      <th>User ID</th>\n",
       "      <th>Gender</th>\n",
       "      <th>Age</th>\n",
       "      <th>EstimatedSalary</th>\n",
       "      <th>Purchased</th>\n",
       "      <th>Purchased_bool</th>\n",
       "    </tr>\n",
       "  </thead>\n",
       "  <tbody>\n",
       "    <tr>\n",
       "      <th>0</th>\n",
       "      <td>15624510</td>\n",
       "      <td>Male</td>\n",
       "      <td>19</td>\n",
       "      <td>19000</td>\n",
       "      <td>0</td>\n",
       "      <td>False</td>\n",
       "    </tr>\n",
       "    <tr>\n",
       "      <th>1</th>\n",
       "      <td>15810944</td>\n",
       "      <td>Male</td>\n",
       "      <td>35</td>\n",
       "      <td>20000</td>\n",
       "      <td>0</td>\n",
       "      <td>False</td>\n",
       "    </tr>\n",
       "    <tr>\n",
       "      <th>2</th>\n",
       "      <td>15668575</td>\n",
       "      <td>Female</td>\n",
       "      <td>26</td>\n",
       "      <td>43000</td>\n",
       "      <td>0</td>\n",
       "      <td>False</td>\n",
       "    </tr>\n",
       "    <tr>\n",
       "      <th>3</th>\n",
       "      <td>15603246</td>\n",
       "      <td>Female</td>\n",
       "      <td>27</td>\n",
       "      <td>57000</td>\n",
       "      <td>0</td>\n",
       "      <td>False</td>\n",
       "    </tr>\n",
       "    <tr>\n",
       "      <th>4</th>\n",
       "      <td>15804002</td>\n",
       "      <td>Male</td>\n",
       "      <td>19</td>\n",
       "      <td>76000</td>\n",
       "      <td>0</td>\n",
       "      <td>False</td>\n",
       "    </tr>\n",
       "    <tr>\n",
       "      <th>...</th>\n",
       "      <td>...</td>\n",
       "      <td>...</td>\n",
       "      <td>...</td>\n",
       "      <td>...</td>\n",
       "      <td>...</td>\n",
       "      <td>...</td>\n",
       "    </tr>\n",
       "    <tr>\n",
       "      <th>395</th>\n",
       "      <td>15691863</td>\n",
       "      <td>Female</td>\n",
       "      <td>46</td>\n",
       "      <td>41000</td>\n",
       "      <td>1</td>\n",
       "      <td>True</td>\n",
       "    </tr>\n",
       "    <tr>\n",
       "      <th>396</th>\n",
       "      <td>15706071</td>\n",
       "      <td>Male</td>\n",
       "      <td>51</td>\n",
       "      <td>23000</td>\n",
       "      <td>1</td>\n",
       "      <td>True</td>\n",
       "    </tr>\n",
       "    <tr>\n",
       "      <th>397</th>\n",
       "      <td>15654296</td>\n",
       "      <td>Female</td>\n",
       "      <td>50</td>\n",
       "      <td>20000</td>\n",
       "      <td>1</td>\n",
       "      <td>True</td>\n",
       "    </tr>\n",
       "    <tr>\n",
       "      <th>398</th>\n",
       "      <td>15755018</td>\n",
       "      <td>Male</td>\n",
       "      <td>36</td>\n",
       "      <td>33000</td>\n",
       "      <td>0</td>\n",
       "      <td>False</td>\n",
       "    </tr>\n",
       "    <tr>\n",
       "      <th>399</th>\n",
       "      <td>15594041</td>\n",
       "      <td>Female</td>\n",
       "      <td>49</td>\n",
       "      <td>36000</td>\n",
       "      <td>1</td>\n",
       "      <td>True</td>\n",
       "    </tr>\n",
       "  </tbody>\n",
       "</table>\n",
       "<p>400 rows × 6 columns</p>\n",
       "</div>"
      ],
      "text/plain": [
       "      User ID  Gender  Age  EstimatedSalary  Purchased  Purchased_bool\n",
       "0    15624510    Male   19            19000          0           False\n",
       "1    15810944    Male   35            20000          0           False\n",
       "2    15668575  Female   26            43000          0           False\n",
       "3    15603246  Female   27            57000          0           False\n",
       "4    15804002    Male   19            76000          0           False\n",
       "..        ...     ...  ...              ...        ...             ...\n",
       "395  15691863  Female   46            41000          1            True\n",
       "396  15706071    Male   51            23000          1            True\n",
       "397  15654296  Female   50            20000          1            True\n",
       "398  15755018    Male   36            33000          0           False\n",
       "399  15594041  Female   49            36000          1            True\n",
       "\n",
       "[400 rows x 6 columns]"
      ]
     },
     "execution_count": 11,
     "metadata": {},
     "output_type": "execute_result"
    }
   ],
   "source": [
    "data"
   ]
  },
  {
   "cell_type": "code",
   "execution_count": 12,
   "id": "176d2b29",
   "metadata": {},
   "outputs": [
    {
     "data": {
      "text/plain": [
       "Purchased\n",
       "0    257\n",
       "1    143\n",
       "Name: Purchased_bool, dtype: int64"
      ]
     },
     "execution_count": 12,
     "metadata": {},
     "output_type": "execute_result"
    }
   ],
   "source": [
    "purch_group = data.groupby('Purchased')['Purchased_bool'].count()\n",
    "purch_group"
   ]
  },
  {
   "cell_type": "code",
   "execution_count": 13,
   "id": "7457c9ba",
   "metadata": {},
   "outputs": [
    {
     "data": {
      "image/png": "[encoded data removed]",
      "text/plain": [
       "<Figure size 504x504 with 1 Axes>"
      ]
     },
     "metadata": {},
     "output_type": "display_data"
    }
   ],
   "source": [
    "plt.figure(figsize = (7,7))\n",
    "plt.pie(purch_group, autopct='%.1f%%', \n",
    "        labels = ['Non purchased', 'Purchased'], colors= ['#CEE5D0','#F0F0CB'])\n",
    "plt.show()"
   ]
  },
  {
   "cell_type": "code",
   "execution_count": 14,
   "id": "47fd805e",
   "metadata": {},
   "outputs": [
    {
     "data": {
      "text/plain": [
       "Gender\n",
       "Female    204\n",
       "Male      196\n",
       "Name: Purchased_bool, dtype: int64"
      ]
     },
     "execution_count": 14,
     "metadata": {},
     "output_type": "execute_result"
    }
   ],
   "source": [
    "# Purchased vs  Gender \n",
    "\n",
    "gender_group = data.groupby('Gender')['Purchased_bool'].count()\n",
    "gender_group"
   ]
  },
  {
   "cell_type": "code",
   "execution_count": 15,
   "id": "0df902b8",
   "metadata": {
    "scrolled": false
   },
   "outputs": [
    {
     "data": {
      "image/png": "[encoded data removed]",
      "text/plain": [
       "<Figure size 504x504 with 1 Axes>"
      ]
     },
     "metadata": {},
     "output_type": "display_data"
    }
   ],
   "source": [
    "plt.figure(figsize = (7,7))\n",
    "sns.barplot(data = data, x = 'Gender',y = 'Purchased', palette= ['#FFBF86', '#F5E8C7'])\n",
    "plt.show()"
   ]
  },
  {
   "cell_type": "markdown",
   "id": "ccfcd053",
   "metadata": {},
   "source": [
    "남성보다 여성이 더 많이 구매를 하는 걸 알 수 있다\n"
   ]
  },
  {
   "cell_type": "code",
   "execution_count": 18,
   "id": "e07b5468",
   "metadata": {
    "scrolled": true
   },
   "outputs": [
    {
     "data": {
      "image/png": "[encoded data removed]",
      "text/plain": [
       "<Figure size 504x360 with 1 Axes>"
      ]
     },
     "metadata": {},
     "output_type": "display_data"
    }
   ],
   "source": [
    "# Purchased vs  Age\n",
    "\n",
    "## . Age is continuous feature --> mapping\n",
    "\n",
    "dvis = data.copy()\n",
    "for i, val in enumerate(dvis.Age):\n",
    "    if (val>10) & (val<=20):\n",
    "        dvis.loc[i,'Age'] = 0\n",
    "    elif (val>20) & (val<=30):\n",
    "        dvis.loc[i, 'Age'] = 1\n",
    "    elif (val>30) & (val<=40):\n",
    "        dvis.loc[i, 'Age'] = 2\n",
    "    elif (val>40) & (val<=50):\n",
    "        dvis.loc[i, 'Age'] = 3\n",
    "    elif (val>50) & (val<=60):\n",
    "        dvis.loc[i, 'Age'] = 4\n",
    "\n",
    "\n",
    "plt.figure(figsize = (7,5))\n",
    "sns.barplot(data = dvis, x = 'Age', y = 'Purchased')\n",
    "plt.show()\n"
   ]
  },
  {
   "cell_type": "markdown",
   "id": "8af7b302",
   "metadata": {},
   "source": [
    "나이가 많은 사람들은 젊은 사람들보다 많은 구매를 한다"
   ]
  },
  {
   "cell_type": "markdown",
   "id": "5a47469c",
   "metadata": {},
   "source": [
    "## Correlation "
   ]
  },
  {
   "cell_type": "code",
   "execution_count": 20,
   "id": "832588a1",
   "metadata": {},
   "outputs": [
    {
     "data": {
      "image/png": "[encoded data removed]",
      "text/plain": [
       "<Figure size 432x288 with 2 Axes>"
      ]
     },
     "metadata": {},
     "output_type": "display_data"
    }
   ],
   "source": [
    "sns.heatmap(dvis.corr(), annot=True)\n",
    "plt.show()"
   ]
  },
  {
   "cell_type": "markdown",
   "id": "7091f886",
   "metadata": {},
   "source": [
    "구매를 하는데 Age, Salary와 높은 상관관계를 가지지만        \n",
    "Gender과는 거의 관련이 없다.\n",
    "             "
   ]
  },
  {
   "cell_type": "code",
   "execution_count": 21,
   "id": "07e24c16",
   "metadata": {},
   "outputs": [
    {
     "name": "stdout",
     "output_type": "stream",
     "text": [
      "User ID : 400\n",
      "Gender : 2\n",
      "Age : 43\n",
      "EstimatedSalary : 117\n",
      "Purchased : 2\n",
      "Purchased_bool : 2\n"
     ]
    }
   ],
   "source": [
    "for col in data.columns:\n",
    "    print(col, ':' , len(data[col].unique()))  "
   ]
  },
  {
   "cell_type": "markdown",
   "id": "c4703657",
   "metadata": {},
   "source": [
    "# Preprocessing"
   ]
  },
  {
   "cell_type": "code",
   "execution_count": 24,
   "id": "7d515e4c",
   "metadata": {},
   "outputs": [],
   "source": [
    "def preprocessing_func(df):\n",
    "    df = df.copy()\n",
    "    \n",
    "    # Drop nonrelative features\n",
    "    df = df.drop(['User ID','Purchased_bool'], axis = 1)\n",
    "    \n",
    "    # Mapping --> Female = 0, Male = 1\n",
    "    df['Gender'] = df['Gender'].map({'Female':0, 'Male':1})\n",
    "    \n",
    "    \n",
    "    # Feature Engineering - For Continous Age Feature\n",
    "                      \n",
    "    ### 1. Age mapping     \n",
    "          \n",
    "    ### 2. Age quatile\n",
    "    old_age = df['Age'].quantile(.95)\n",
    "    df['OldAge'] = df['Age'].apply(lambda x: 1 if x>= old_age else 0 )\n",
    "            \n",
    "    young_age = df['Age'].quantile(.1)\n",
    "    df['YoungAge'] = df['Age'].apply(lambda x: 1 if x<= young_age else 0 )\n",
    "              \n",
    "#     ### 3. Age getdummies = OneHotEncode\n",
    "#     dummies = pd.get_dummies(dd.Age)\n",
    "#     df = pd.concat([df,dummies], axis = 1)\n",
    "#     df = df.drop('Age', axis = 1)\n",
    "    \n",
    "            \n",
    "    # quantile also is technique for continous features\n",
    "\n",
    "    high_salary = df.EstimatedSalary.quantile(q = .9)\n",
    "    df['HighSalary'] = df['EstimatedSalary'].apply(lambda x: 1 if x>= high_salary else 0)\n",
    "    \n",
    "    low_salary = df.EstimatedSalary.quantile(q = .15)\n",
    "    df['LowSalary'] = df['EstimatedSalary'].apply(lambda x: 1 if x<= low_salary else 0)\n",
    "    \n",
    "    \n",
    "    X = df.drop('Purchased', axis  =1)\n",
    "    y = df.Purchased\n",
    "    \n",
    "    # Scale     \n",
    "    X = pd.DataFrame(MinMaxScaler().fit_transform(X), columns = X.columns)\n",
    "    \n",
    "    # Split\n",
    "    X_train, X_test, y_train, y_test = train_test_split(X,y, train_size=.8, random_state=0)\n",
    "    \n",
    "    return   X_train, X_test, y_train, y_test "
   ]
  },
  {
   "cell_type": "code",
   "execution_count": 25,
   "id": "4d0cc480",
   "metadata": {},
   "outputs": [
    {
     "data": {
      "text/html": [
       "<div>\n",
       "<style scoped>\n",
       "    .dataframe tbody tr th:only-of-type {\n",
       "        vertical-align: middle;\n",
       "    }\n",
       "\n",
       "    .dataframe tbody tr th {\n",
       "        vertical-align: top;\n",
       "    }\n",
       "\n",
       "    .dataframe thead th {\n",
       "        text-align: right;\n",
       "    }\n",
       "</style>\n",
       "<table border=\"1\" class=\"dataframe\">\n",
       "  <thead>\n",
       "    <tr style=\"text-align: right;\">\n",
       "      <th></th>\n",
       "      <th>Gender</th>\n",
       "      <th>Age</th>\n",
       "      <th>EstimatedSalary</th>\n",
       "      <th>OldAge</th>\n",
       "      <th>YoungAge</th>\n",
       "      <th>HighSalary</th>\n",
       "      <th>LowSalary</th>\n",
       "    </tr>\n",
       "  </thead>\n",
       "  <tbody>\n",
       "    <tr>\n",
       "      <th>336</th>\n",
       "      <td>1.0</td>\n",
       "      <td>0.952381</td>\n",
       "      <td>0.955556</td>\n",
       "      <td>1.0</td>\n",
       "      <td>0.0</td>\n",
       "      <td>1.0</td>\n",
       "      <td>0.0</td>\n",
       "    </tr>\n",
       "    <tr>\n",
       "      <th>64</th>\n",
       "      <td>0.0</td>\n",
       "      <td>0.976190</td>\n",
       "      <td>0.503704</td>\n",
       "      <td>1.0</td>\n",
       "      <td>0.0</td>\n",
       "      <td>0.0</td>\n",
       "      <td>0.0</td>\n",
       "    </tr>\n",
       "    <tr>\n",
       "      <th>55</th>\n",
       "      <td>0.0</td>\n",
       "      <td>0.142857</td>\n",
       "      <td>0.296296</td>\n",
       "      <td>0.0</td>\n",
       "      <td>1.0</td>\n",
       "      <td>0.0</td>\n",
       "      <td>0.0</td>\n",
       "    </tr>\n",
       "    <tr>\n",
       "      <th>106</th>\n",
       "      <td>0.0</td>\n",
       "      <td>0.190476</td>\n",
       "      <td>0.148148</td>\n",
       "      <td>0.0</td>\n",
       "      <td>0.0</td>\n",
       "      <td>0.0</td>\n",
       "      <td>0.0</td>\n",
       "    </tr>\n",
       "    <tr>\n",
       "      <th>300</th>\n",
       "      <td>0.0</td>\n",
       "      <td>0.952381</td>\n",
       "      <td>0.170370</td>\n",
       "      <td>1.0</td>\n",
       "      <td>0.0</td>\n",
       "      <td>0.0</td>\n",
       "      <td>0.0</td>\n",
       "    </tr>\n",
       "    <tr>\n",
       "      <th>...</th>\n",
       "      <td>...</td>\n",
       "      <td>...</td>\n",
       "      <td>...</td>\n",
       "      <td>...</td>\n",
       "      <td>...</td>\n",
       "      <td>...</td>\n",
       "      <td>...</td>\n",
       "    </tr>\n",
       "    <tr>\n",
       "      <th>323</th>\n",
       "      <td>0.0</td>\n",
       "      <td>0.714286</td>\n",
       "      <td>0.111111</td>\n",
       "      <td>0.0</td>\n",
       "      <td>0.0</td>\n",
       "      <td>0.0</td>\n",
       "      <td>1.0</td>\n",
       "    </tr>\n",
       "    <tr>\n",
       "      <th>192</th>\n",
       "      <td>1.0</td>\n",
       "      <td>0.261905</td>\n",
       "      <td>0.207407</td>\n",
       "      <td>0.0</td>\n",
       "      <td>0.0</td>\n",
       "      <td>0.0</td>\n",
       "      <td>0.0</td>\n",
       "    </tr>\n",
       "    <tr>\n",
       "      <th>117</th>\n",
       "      <td>1.0</td>\n",
       "      <td>0.428571</td>\n",
       "      <td>0.274074</td>\n",
       "      <td>0.0</td>\n",
       "      <td>0.0</td>\n",
       "      <td>0.0</td>\n",
       "      <td>0.0</td>\n",
       "    </tr>\n",
       "    <tr>\n",
       "      <th>47</th>\n",
       "      <td>0.0</td>\n",
       "      <td>0.214286</td>\n",
       "      <td>0.288889</td>\n",
       "      <td>0.0</td>\n",
       "      <td>0.0</td>\n",
       "      <td>0.0</td>\n",
       "      <td>0.0</td>\n",
       "    </tr>\n",
       "    <tr>\n",
       "      <th>172</th>\n",
       "      <td>0.0</td>\n",
       "      <td>0.190476</td>\n",
       "      <td>0.762963</td>\n",
       "      <td>0.0</td>\n",
       "      <td>0.0</td>\n",
       "      <td>0.0</td>\n",
       "      <td>0.0</td>\n",
       "    </tr>\n",
       "  </tbody>\n",
       "</table>\n",
       "<p>320 rows × 7 columns</p>\n",
       "</div>"
      ],
      "text/plain": [
       "     Gender       Age  EstimatedSalary  OldAge  YoungAge  HighSalary  \\\n",
       "336     1.0  0.952381         0.955556     1.0       0.0         1.0   \n",
       "64      0.0  0.976190         0.503704     1.0       0.0         0.0   \n",
       "55      0.0  0.142857         0.296296     0.0       1.0         0.0   \n",
       "106     0.0  0.190476         0.148148     0.0       0.0         0.0   \n",
       "300     0.0  0.952381         0.170370     1.0       0.0         0.0   \n",
       "..      ...       ...              ...     ...       ...         ...   \n",
       "323     0.0  0.714286         0.111111     0.0       0.0         0.0   \n",
       "192     1.0  0.261905         0.207407     0.0       0.0         0.0   \n",
       "117     1.0  0.428571         0.274074     0.0       0.0         0.0   \n",
       "47      0.0  0.214286         0.288889     0.0       0.0         0.0   \n",
       "172     0.0  0.190476         0.762963     0.0       0.0         0.0   \n",
       "\n",
       "     LowSalary  \n",
       "336        0.0  \n",
       "64         0.0  \n",
       "55         0.0  \n",
       "106        0.0  \n",
       "300        0.0  \n",
       "..         ...  \n",
       "323        1.0  \n",
       "192        0.0  \n",
       "117        0.0  \n",
       "47         0.0  \n",
       "172        0.0  \n",
       "\n",
       "[320 rows x 7 columns]"
      ]
     },
     "execution_count": 25,
     "metadata": {},
     "output_type": "execute_result"
    }
   ],
   "source": [
    "X_train, X_test, y_train, y_test  = preprocessing_func(data)\n",
    "X_train"
   ]
  },
  {
   "cell_type": "markdown",
   "id": "67a53e69",
   "metadata": {},
   "source": [
    "# Model & Train"
   ]
  },
  {
   "cell_type": "code",
   "execution_count": 26,
   "id": "3498bbac",
   "metadata": {},
   "outputs": [
    {
     "data": {
      "text/plain": [
       "96.25"
      ]
     },
     "execution_count": 26,
     "metadata": {},
     "output_type": "execute_result"
    }
   ],
   "source": [
    "kn = KNeighborsClassifier(n_neighbors=5)\n",
    "kn.fit(X_train, y_train)\n",
    "y_pred = kn.predict(X_test)\n",
    "accuracy_score(y_pred, y_test)*100"
   ]
  },
  {
   "cell_type": "code",
   "execution_count": 28,
   "id": "b525a2d2",
   "metadata": {},
   "outputs": [
    {
     "name": "stdout",
     "output_type": "stream",
     "text": [
      " logistic Regr  is trained! \n",
      "           SVC  is trained! \n",
      "Neural Network  is trained! \n"
     ]
    },
    {
     "name": "stderr",
     "output_type": "stream",
     "text": [
      "C:\\Users\\admin\\anaconda3\\lib\\site-packages\\sklearn\\neural_network\\_multilayer_perceptron.py:614: ConvergenceWarning: Stochastic Optimizer: Maximum iterations (200) reached and the optimization hasn't converged yet.\n",
      "  warnings.warn(\n"
     ]
    }
   ],
   "source": [
    "models = {\n",
    "    ' logistic Regr': LogisticRegression(),\n",
    "    '           SVC':SVC(),\n",
    "    'Neural Network': MLPClassifier()\n",
    "}\n",
    "\n",
    "for name, model in models.items():\n",
    "    model.fit(X_train, y_train)\n",
    "    print(name, ' is trained! ')"
   ]
  },
  {
   "cell_type": "code",
   "execution_count": 29,
   "id": "8594c012",
   "metadata": {},
   "outputs": [
    {
     "name": "stdout",
     "output_type": "stream",
     "text": [
      " logistic Regr  accuracy 95.00%\n",
      "           SVC  accuracy 96.25%\n",
      "Neural Network  accuracy 96.25%\n"
     ]
    }
   ],
   "source": [
    "for name, model in models.items():\n",
    "    y_pred = model.predict(X_test)\n",
    "    print(name,' accuracy {:.2f}%'.format(accuracy_score(y_pred, y_test)*100))"
   ]
  },
  {
   "cell_type": "markdown",
   "id": "7ad7522a",
   "metadata": {},
   "source": [
    "# Age is mapped  [10~20 = 0...]\n",
    "# Try 1:\n",
    "####  Without any scaling\n",
    "    kn = 81.25%       \n",
    "    logistic Regr  accuracy = 72.50%\n",
    "    SVC  accuracy = 81.25%\n",
    "    Neural Network  accuracy = 72.50%\n",
    "    \n",
    "# Try 2:\n",
    "#### Standard Scaling\n",
    "    kn = 93.75%       \n",
    "    logistic Regr  accuracy = 93.75%\n",
    "    SVC  accuracy = 95.00%\n",
    "    Neural Network  accuracy = 95.00%\n",
    "    \n",
    "# Try 3:\n",
    "#### MinMaxScaling\n",
    "    kn = 93.75%       \n",
    "    logistic Regr  accuracy = 95.00%\n",
    "    SVC  accuracy = 95.00%\n",
    "    Neural Network  accuracy = 95.00%\n",
    "    \n",
    "=======================================================================\n",
    "# Age is just quantiled [oldAge , youngAge]\n",
    "# Try1\n",
    "####  Without any scaling\n",
    "    kn = 82.5%       \n",
    "    logistic Regr  accuracy = 72.50%\n",
    "    SVC  accuracy = 81.25%\n",
    "    Neural Network  accuracy = 72.50%\n",
    "\n",
    "    \n",
    "# Try 2:\n",
    "#### MinMaxScaling\n",
    "    kn = 96.25%%       \n",
    "    logistic Regr  accuracy = 95.00%\n",
    "    SVC  accuracy = 96.25%%\n",
    "    Neural Network  accuracy = 96.25%\n",
    "    \n",
    "=====================================================================\n",
    "# Age got onehot encoded \n",
    "\n",
    "    \n",
    "#### MinMaxScaling\n",
    "    kn = 86.25%       \n",
    "    logistic Regr  accuracy = 88.75%\n",
    "    SVC  accuracy = 91.25%\n",
    "    Neural Network  accuracy = 88.75%\n",
    "    \n",
    "    \n",
    "##### ==> for this dataset the highest score was : when Age is quantiled & data is MinMaxScaled :: SVC, Neural Network  are better  models for this data\n",
    "                    "
   ]
  }
 ],
 "metadata": {
  "kernelspec": {
   "display_name": "Python 3",
   "language": "python",
   "name": "python3"
  },
  "language_info": {
   "codemirror_mode": {
    "name": "ipython",
    "version": 3
   },
   "file_extension": ".py",
   "mimetype": "text/x-python",
   "name": "python",
   "nbconvert_exporter": "python",
   "pygments_lexer": "ipython3",
   "version": "3.8.8"
  }
 },
 "nbformat": 4,
 "nbformat_minor": 5
}
